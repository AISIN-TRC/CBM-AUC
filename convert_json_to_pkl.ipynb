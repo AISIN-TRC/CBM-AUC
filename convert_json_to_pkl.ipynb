{
 "cells": [
  {
   "cell_type": "markdown",
   "metadata": {},
   "source": [
    "# Conver json to pkl\n",
    "The original label of BDD-OIA is written in json format, while our model uses pkl.\n",
    "This notebook convert the json to pkl format and merge the action and reason file."
   ]
  },
  {
   "cell_type": "code",
   "execution_count": null,
   "metadata": {},
   "outputs": [],
   "source": [
    "import pickle \n",
    "import json\n",
    "import numpy as np"
   ]
  },
  {
   "cell_type": "code",
   "execution_count": null,
   "metadata": {},
   "outputs": [],
   "source": [
    "file_action = open('../data/BDD/test_25k_images_actions.json')\n",
    "file_reason = open('../data/BDD/test_25k_images_reasons.json')\n",
    "output_file = open('test_BDD_OIA_test.pkl','wb')\n",
    "\n",
    "json_action = json.load(file_action)\n",
    "json_reason = json.load(file_reason)"
   ]
  },
  {
   "cell_type": "code",
   "execution_count": null,
   "metadata": {},
   "outputs": [],
   "source": [
    "id_list = []\n",
    "file_list = []\n",
    "annotation_list = []\n",
    "check_list = [0,1,2,3,4]\n",
    "for i,j in enumerate(json_action['images']):\n",
    "    id_list.append(json_action['images'][i]['id'])\n",
    "    file_list.append(json_action['images'][i]['file_name'])\n",
    "    # some of the label only conteins four actions, and the other has five actions. adapt 4 actions to 5 labels \n",
    "    if len(json_action['annotations'][i]['category'])==4:\n",
    "        json_action['annotations'][i]['category'].append(0)\n",
    "    annotation_list.append(json_action['annotations'][i]['category'])"
   ]
  },
  {
   "cell_type": "code",
   "execution_count": null,
   "metadata": {},
   "outputs": [],
   "source": [
    "mid_list = []\n",
    "# our model needs certainty of the label even it's not used. fill default value four.\n",
    "default_certainty =[4]*len(json_reason[0]['reason'])"
   ]
  },
  {
   "cell_type": "code",
   "execution_count": null,
   "metadata": {},
   "outputs": [],
   "source": [
    "for i,j in enumerate(json_action['images']):\n",
    "    mid_list.append([json_reason[i]['reason'],file_list.index(json_reason[i]['file_name']),default_certainty,json_reason[i]['file_name']])"
   ]
  },
  {
   "cell_type": "code",
   "execution_count": null,
   "metadata": {
    "scrolled": true
   },
   "outputs": [],
   "source": [
    "#sort id to gather the action and reason\n",
    "new_list=sorted(mid_list,key = lambda x: x[1])"
   ]
  },
  {
   "cell_type": "code",
   "execution_count": null,
   "metadata": {},
   "outputs": [],
   "source": [
    "dic_list = []\n",
    "for i in id_list:\n",
    "    dic = {'id':id_list[i], 'img_path':file_list[i], 'class_label':annotation_list[i], 'attribute_label':new_list[i][0], 'attribute_certainty':new_list[i][2]}\n",
    "    dic_list.append(dic)"
   ]
  },
  {
   "cell_type": "code",
   "execution_count": null,
   "metadata": {},
   "outputs": [],
   "source": [
    "#dump into pkl file\n",
    "pickle.dump(dic_list,output_file)\n",
    "output_file.close()"
   ]
  },
  {
   "cell_type": "code",
   "execution_count": null,
   "metadata": {},
   "outputs": [],
   "source": [
    "#check the output\n",
    "f = open('test_BDD_OIA_test.pkl','rb')\n",
    "dic = pickle.load(f)\n",
    "print(dic[0])"
   ]
  },
  {
   "cell_type": "code",
   "execution_count": null,
   "metadata": {},
   "outputs": [],
   "source": [
    "print(dic[0])"
   ]
  }
 ],
 "metadata": {
  "kernelspec": {
   "display_name": "Python 3",
   "language": "python",
   "name": "python3"
  },
  "language_info": {
   "codemirror_mode": {
    "name": "ipython",
    "version": 3
   },
   "file_extension": ".py",
   "mimetype": "text/x-python",
   "name": "python",
   "nbconvert_exporter": "python",
   "pygments_lexer": "ipython3",
   "version": "3.6.9"
  }
 },
 "nbformat": 4,
 "nbformat_minor": 2
}
